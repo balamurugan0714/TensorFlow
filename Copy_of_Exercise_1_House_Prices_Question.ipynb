{
  "nbformat": 4,
  "nbformat_minor": 0,
  "metadata": {
    "colab": {
      "name": "Copy of Exercise 1 - House Prices - Question.ipynb",
      "version": "0.3.2",
      "provenance": [],
      "collapsed_sections": [],
      "include_colab_link": true
    },
    "kernelspec": {
      "name": "python3",
      "display_name": "Python 3"
    }
  },
  "cells": [
    {
      "cell_type": "markdown",
      "metadata": {
        "id": "view-in-github",
        "colab_type": "text"
      },
      "source": [
        "<a href=\"https://colab.research.google.com/github/balamurugan0714/TensorFlow/blob/master/Copy_of_Exercise_1_House_Prices_Question.ipynb\" target=\"_parent\"><img src=\"https://colab.research.google.com/assets/colab-badge.svg\" alt=\"Open In Colab\"/></a>"
      ]
    },
    {
      "cell_type": "markdown",
      "metadata": {
        "id": "mw2VBrBcgvGa",
        "colab_type": "text"
      },
      "source": [
        "In this exercise you'll try to build a neural network that predicts the price of a house according to a simple formula.\n",
        "\n",
        "So, imagine if house pricing was as easy as a house costs 50k + 50k per bedroom, so that a 1 bedroom house costs 100k, a 2 bedroom house costs 150k etc.\n",
        "\n",
        "How would you create a neural network that learns this relationship so that it would predict a 7 bedroom house as costing close to 400k etc.\n",
        "\n",
        "Hint: Your network might work better if you scale the house price down. You don't have to give the answer 400...it might be better to create something that predicts the number 4, and then your answer is in the 'hundreds of thousands' etc."
      ]
    },
    {
      "cell_type": "code",
      "metadata": {
        "id": "PUNO2E6SeURH",
        "colab_type": "code",
        "outputId": "258b20ca-5ac4-4a73-890e-cbf22d129113",
        "colab": {
          "base_uri": "https://localhost:8080/",
          "height": 646
        }
      },
      "source": [
        "import tensorflow as tf\n",
        "import numpy as np\n",
        "from tensorflow import keras\n",
        "model = tf.keras.Sequential([keras.layers.Dense(units=1, input_shape=[1])])\n",
        "model.compile(optimizer='sgd', loss='mean_squared_error')\n",
        "xs = np.array([1.0, 2.0, 3.0, 4.0, 5.0, 6.0], dtype=float)\n",
        "ys = np.array([1.0, 1.5, 2.0, 2.5, 3.0, 3.5], dtype=float)\n",
        "model.fit(xs, ys, epochs=18)\n",
        "print(model.predict([7.0]))"
      ],
      "execution_count": 0,
      "outputs": [
        {
          "output_type": "stream",
          "text": [
            "Epoch 1/18\n",
            "6/6 [==============================] - 0s 9ms/sample - loss: 1.5001\n",
            "Epoch 2/18\n",
            "6/6 [==============================] - 0s 237us/sample - loss: 0.7272\n",
            "Epoch 3/18\n",
            "6/6 [==============================] - 0s 450us/sample - loss: 0.3693\n",
            "Epoch 4/18\n",
            "6/6 [==============================] - 0s 300us/sample - loss: 0.2033\n",
            "Epoch 5/18\n",
            "6/6 [==============================] - 0s 229us/sample - loss: 0.1263\n",
            "Epoch 6/18\n",
            "6/6 [==============================] - 0s 268us/sample - loss: 0.0904\n",
            "Epoch 7/18\n",
            "6/6 [==============================] - 0s 223us/sample - loss: 0.0736\n",
            "Epoch 8/18\n",
            "6/6 [==============================] - 0s 207us/sample - loss: 0.0656\n",
            "Epoch 9/18\n",
            "6/6 [==============================] - 0s 247us/sample - loss: 0.0616\n",
            "Epoch 10/18\n",
            "6/6 [==============================] - 0s 247us/sample - loss: 0.0596\n",
            "Epoch 11/18\n",
            "6/6 [==============================] - 0s 255us/sample - loss: 0.0584\n",
            "Epoch 12/18\n",
            "6/6 [==============================] - 0s 266us/sample - loss: 0.0576\n",
            "Epoch 13/18\n",
            "6/6 [==============================] - 0s 226us/sample - loss: 0.0570\n",
            "Epoch 14/18\n",
            "6/6 [==============================] - 0s 248us/sample - loss: 0.0566\n",
            "Epoch 15/18\n",
            "6/6 [==============================] - 0s 211us/sample - loss: 0.0561\n",
            "Epoch 16/18\n",
            "6/6 [==============================] - 0s 210us/sample - loss: 0.0557\n",
            "Epoch 17/18\n",
            "6/6 [==============================] - 0s 218us/sample - loss: 0.0553\n",
            "Epoch 18/18\n",
            "6/6 [==============================] - 0s 268us/sample - loss: 0.0549\n",
            "[[4.3399286]]\n"
          ],
          "name": "stdout"
        }
      ]
    },
    {
      "cell_type": "code",
      "metadata": {
        "id": "0CHpxFVcZd9n",
        "colab_type": "code",
        "colab": {}
      },
      "source": [
        ""
      ],
      "execution_count": 0,
      "outputs": []
    }
  ]
}